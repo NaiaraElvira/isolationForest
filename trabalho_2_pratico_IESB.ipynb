{
  "nbformat": 4,
  "nbformat_minor": 0,
  "metadata": {
    "kernelspec": {
      "display_name": "Python 3",
      "language": "python",
      "name": "python3"
    },
    "language_info": {
      "codemirror_mode": {
        "name": "ipython",
        "version": 3
      },
      "file_extension": ".py",
      "mimetype": "text/x-python",
      "name": "python",
      "nbconvert_exporter": "python",
      "pygments_lexer": "ipython3",
      "version": "3.6.8"
    },
    "colab": {
      "name": "trabalho_2_pratico_IESB.ipynb",
      "provenance": [],
      "collapsed_sections": []
    }
  },
  "cells": [
    {
      "cell_type": "markdown",
      "metadata": {
        "id": "CaYLbeXy_lcg",
        "colab_type": "text"
      },
      "source": [
        "# Trabalho 2 - Aprendizado Não Supervisionado\n",
        "\n",
        "## Professor: Paulo Cotta\n",
        "\n",
        "### Ideia do trabalho\n",
        "\n",
        "\n",
        "Aprendizado não supervisionado para detecção de anomalias no preço das ações.\n",
        "Temos um .csv que é o nosso dataset (conjunto de dados).\n",
        "\n",
        "License of dataset: Anomaly detection in stock options pricing - MIT"
      ]
    },
    {
      "cell_type": "code",
      "metadata": {
        "id": "6rt6UgxA_lcl",
        "colab_type": "code",
        "colab": {}
      },
      "source": [
        "import numpy as np\n",
        "from sklearn.cluster import KMeans\n",
        "import pandas as pd\n",
        "import matplotlib.pyplot as plt\n",
        "import seaborn\n",
        "from sklearn.preprocessing import scale\n",
        "seaborn.set()\n",
        "%matplotlib inline"
      ],
      "execution_count": 0,
      "outputs": []
    },
    {
      "cell_type": "code",
      "metadata": {
        "id": "ciJllNp4_3XM",
        "colab_type": "code",
        "colab": {
          "base_uri": "https://localhost:8080/",
          "height": 209
        },
        "outputId": "00711b61-4634-4d69-88b3-9f625697dd51"
      },
      "source": [
        "from google.colab import drive\n",
        "drive.mount('/content/drive')"
      ],
      "execution_count": 3,
      "outputs": [
        {
          "output_type": "stream",
          "text": [
            "Go to this URL in a browser: https://accounts.google.com/o/oauth2/auth?client_id=947318989803-6bn6qk8qdgf4n4g3pfee6491hc0brc4i.apps.googleusercontent.com&redirect_uri=urn%3Aietf%3Awg%3Aoauth%3A2.0%3Aoob&scope=email%20https%3A%2F%2Fwww.googleapis.com%2Fauth%2Fdocs.test%20https%3A%2F%2Fwww.googleapis.com%2Fauth%2Fdrive%20https%3A%2F%2Fwww.googleapis.com%2Fauth%2Fdrive.photos.readonly%20https%3A%2F%2Fwww.googleapis.com%2Fauth%2Fpeopleapi.readonly&response_type=code\n",
            "\n",
            "Enter your authorization code:\n",
            "··········\n",
            "Mounted at /content/drive\n"
          ],
          "name": "stdout"
        }
      ]
    },
    {
      "cell_type": "code",
      "metadata": {
        "id": "XC3ki6lt_lcu",
        "colab_type": "code",
        "colab": {
          "base_uri": "https://localhost:8080/",
          "height": 281
        },
        "outputId": "effa802f-23e1-4f95-bfb8-f946e72ba856"
      },
      "source": [
        "caminho = './drive/My Drive/iesb/aprendizado_nao_supervisionado/trabalho_2_pratico_IESB-master/data.csv';\n",
        "\n",
        "data = pd.read_csv(caminho)\n",
        "data.head()"
      ],
      "execution_count": 5,
      "outputs": [
        {
          "output_type": "execute_result",
          "data": {
            "text/html": [
              "<div>\n",
              "<style scoped>\n",
              "    .dataframe tbody tr th:only-of-type {\n",
              "        vertical-align: middle;\n",
              "    }\n",
              "\n",
              "    .dataframe tbody tr th {\n",
              "        vertical-align: top;\n",
              "    }\n",
              "\n",
              "    .dataframe thead th {\n",
              "        text-align: right;\n",
              "    }\n",
              "</style>\n",
              "<table border=\"1\" class=\"dataframe\">\n",
              "  <thead>\n",
              "    <tr style=\"text-align: right;\">\n",
              "      <th></th>\n",
              "      <th>Unnamed: 0</th>\n",
              "      <th>UnderlyingPrice</th>\n",
              "      <th>OptionSymbol</th>\n",
              "      <th>Type</th>\n",
              "      <th>Expiration</th>\n",
              "      <th>DataDate</th>\n",
              "      <th>Strike</th>\n",
              "      <th>Last</th>\n",
              "      <th>Bid</th>\n",
              "      <th>Ask</th>\n",
              "      <th>Volume</th>\n",
              "      <th>OpenInterest</th>\n",
              "      <th>T1OpenInterest</th>\n",
              "      <th>IVMean</th>\n",
              "      <th>IVBid</th>\n",
              "      <th>IVAsk</th>\n",
              "      <th>Delta</th>\n",
              "      <th>Gamma</th>\n",
              "      <th>Theta</th>\n",
              "      <th>Vega</th>\n",
              "      <th>AKA</th>\n",
              "    </tr>\n",
              "  </thead>\n",
              "  <tbody>\n",
              "    <tr>\n",
              "      <th>0</th>\n",
              "      <td>0</td>\n",
              "      <td>174.09</td>\n",
              "      <td>GS160108C00125000</td>\n",
              "      <td>call</td>\n",
              "      <td>01/08/2016</td>\n",
              "      <td>01/05/2016</td>\n",
              "      <td>125.0</td>\n",
              "      <td>0.0</td>\n",
              "      <td>46.95</td>\n",
              "      <td>50.80</td>\n",
              "      <td>0</td>\n",
              "      <td>0</td>\n",
              "      <td>0</td>\n",
              "      <td>0.0874</td>\n",
              "      <td>0.0</td>\n",
              "      <td>3.1911</td>\n",
              "      <td>1.0000</td>\n",
              "      <td>0.0000</td>\n",
              "      <td>0.0000</td>\n",
              "      <td>0.0000</td>\n",
              "      <td>GS160108C00125000</td>\n",
              "    </tr>\n",
              "    <tr>\n",
              "      <th>1</th>\n",
              "      <td>1</td>\n",
              "      <td>174.09</td>\n",
              "      <td>GS160108P00125000</td>\n",
              "      <td>put</td>\n",
              "      <td>01/08/2016</td>\n",
              "      <td>01/05/2016</td>\n",
              "      <td>125.0</td>\n",
              "      <td>0.0</td>\n",
              "      <td>0.00</td>\n",
              "      <td>0.31</td>\n",
              "      <td>0</td>\n",
              "      <td>0</td>\n",
              "      <td>0</td>\n",
              "      <td>1.9822</td>\n",
              "      <td>0.0</td>\n",
              "      <td>2.2141</td>\n",
              "      <td>-0.0150</td>\n",
              "      <td>0.0014</td>\n",
              "      <td>-0.2242</td>\n",
              "      <td>0.0053</td>\n",
              "      <td>GS160108P00125000</td>\n",
              "    </tr>\n",
              "    <tr>\n",
              "      <th>2</th>\n",
              "      <td>2</td>\n",
              "      <td>174.09</td>\n",
              "      <td>GS160108C00130000</td>\n",
              "      <td>call</td>\n",
              "      <td>01/08/2016</td>\n",
              "      <td>01/05/2016</td>\n",
              "      <td>130.0</td>\n",
              "      <td>0.0</td>\n",
              "      <td>41.80</td>\n",
              "      <td>45.80</td>\n",
              "      <td>0</td>\n",
              "      <td>0</td>\n",
              "      <td>0</td>\n",
              "      <td>0.0874</td>\n",
              "      <td>0.0</td>\n",
              "      <td>2.8946</td>\n",
              "      <td>1.0000</td>\n",
              "      <td>0.0000</td>\n",
              "      <td>0.0000</td>\n",
              "      <td>0.0000</td>\n",
              "      <td>GS160108C00130000</td>\n",
              "    </tr>\n",
              "    <tr>\n",
              "      <th>3</th>\n",
              "      <td>3</td>\n",
              "      <td>174.09</td>\n",
              "      <td>GS160108P00130000</td>\n",
              "      <td>put</td>\n",
              "      <td>01/08/2016</td>\n",
              "      <td>01/05/2016</td>\n",
              "      <td>130.0</td>\n",
              "      <td>0.0</td>\n",
              "      <td>0.00</td>\n",
              "      <td>0.31</td>\n",
              "      <td>0</td>\n",
              "      <td>0</td>\n",
              "      <td>0</td>\n",
              "      <td>1.7931</td>\n",
              "      <td>0.0</td>\n",
              "      <td>1.9882</td>\n",
              "      <td>-0.0175</td>\n",
              "      <td>0.0017</td>\n",
              "      <td>-0.2310</td>\n",
              "      <td>0.0060</td>\n",
              "      <td>GS160108P00130000</td>\n",
              "    </tr>\n",
              "    <tr>\n",
              "      <th>4</th>\n",
              "      <td>4</td>\n",
              "      <td>174.09</td>\n",
              "      <td>GS160108C00135000</td>\n",
              "      <td>call</td>\n",
              "      <td>01/08/2016</td>\n",
              "      <td>01/05/2016</td>\n",
              "      <td>135.0</td>\n",
              "      <td>0.0</td>\n",
              "      <td>36.95</td>\n",
              "      <td>40.90</td>\n",
              "      <td>0</td>\n",
              "      <td>0</td>\n",
              "      <td>0</td>\n",
              "      <td>0.0874</td>\n",
              "      <td>0.0</td>\n",
              "      <td>2.6480</td>\n",
              "      <td>1.0000</td>\n",
              "      <td>0.0000</td>\n",
              "      <td>0.0000</td>\n",
              "      <td>0.0000</td>\n",
              "      <td>GS160108C00135000</td>\n",
              "    </tr>\n",
              "  </tbody>\n",
              "</table>\n",
              "</div>"
            ],
            "text/plain": [
              "   Unnamed: 0  UnderlyingPrice  ...    Vega                AKA\n",
              "0           0           174.09  ...  0.0000  GS160108C00125000\n",
              "1           1           174.09  ...  0.0053  GS160108P00125000\n",
              "2           2           174.09  ...  0.0000  GS160108C00130000\n",
              "3           3           174.09  ...  0.0060  GS160108P00130000\n",
              "4           4           174.09  ...  0.0000  GS160108C00135000\n",
              "\n",
              "[5 rows x 21 columns]"
            ]
          },
          "metadata": {
            "tags": []
          },
          "execution_count": 5
        }
      ]
    },
    {
      "cell_type": "code",
      "metadata": {
        "id": "OoWVn9mS_lc4",
        "colab_type": "code",
        "colab": {
          "base_uri": "https://localhost:8080/",
          "height": 374
        },
        "outputId": "7e957cef-544b-40b9-d9d1-270fa580988c"
      },
      "source": [
        "data.describe()"
      ],
      "execution_count": 6,
      "outputs": [
        {
          "output_type": "execute_result",
          "data": {
            "text/html": [
              "<div>\n",
              "<style scoped>\n",
              "    .dataframe tbody tr th:only-of-type {\n",
              "        vertical-align: middle;\n",
              "    }\n",
              "\n",
              "    .dataframe tbody tr th {\n",
              "        vertical-align: top;\n",
              "    }\n",
              "\n",
              "    .dataframe thead th {\n",
              "        text-align: right;\n",
              "    }\n",
              "</style>\n",
              "<table border=\"1\" class=\"dataframe\">\n",
              "  <thead>\n",
              "    <tr style=\"text-align: right;\">\n",
              "      <th></th>\n",
              "      <th>Unnamed: 0</th>\n",
              "      <th>UnderlyingPrice</th>\n",
              "      <th>Strike</th>\n",
              "      <th>Last</th>\n",
              "      <th>Bid</th>\n",
              "      <th>Ask</th>\n",
              "      <th>Volume</th>\n",
              "      <th>OpenInterest</th>\n",
              "      <th>T1OpenInterest</th>\n",
              "      <th>IVMean</th>\n",
              "      <th>IVBid</th>\n",
              "      <th>IVAsk</th>\n",
              "      <th>Delta</th>\n",
              "      <th>Gamma</th>\n",
              "      <th>Theta</th>\n",
              "      <th>Vega</th>\n",
              "    </tr>\n",
              "  </thead>\n",
              "  <tbody>\n",
              "    <tr>\n",
              "      <th>count</th>\n",
              "      <td>858.000000</td>\n",
              "      <td>8.580000e+02</td>\n",
              "      <td>858.000000</td>\n",
              "      <td>858.000000</td>\n",
              "      <td>858.000000</td>\n",
              "      <td>858.000000</td>\n",
              "      <td>858.000000</td>\n",
              "      <td>858.000000</td>\n",
              "      <td>858.000000</td>\n",
              "      <td>858.000000</td>\n",
              "      <td>858.000000</td>\n",
              "      <td>858.000000</td>\n",
              "      <td>858.000000</td>\n",
              "      <td>858.000000</td>\n",
              "      <td>858.000000</td>\n",
              "      <td>858.000000</td>\n",
              "    </tr>\n",
              "    <tr>\n",
              "      <th>mean</th>\n",
              "      <td>428.500000</td>\n",
              "      <td>1.740900e+02</td>\n",
              "      <td>186.463869</td>\n",
              "      <td>9.109988</td>\n",
              "      <td>20.894744</td>\n",
              "      <td>22.509755</td>\n",
              "      <td>20.349650</td>\n",
              "      <td>376.848485</td>\n",
              "      <td>384.405594</td>\n",
              "      <td>0.630892</td>\n",
              "      <td>0.159149</td>\n",
              "      <td>0.590690</td>\n",
              "      <td>-0.078274</td>\n",
              "      <td>0.008780</td>\n",
              "      <td>-0.077531</td>\n",
              "      <td>0.150592</td>\n",
              "    </tr>\n",
              "    <tr>\n",
              "      <th>std</th>\n",
              "      <td>247.827561</td>\n",
              "      <td>2.673199e-12</td>\n",
              "      <td>47.751953</td>\n",
              "      <td>19.266645</td>\n",
              "      <td>27.679726</td>\n",
              "      <td>29.122069</td>\n",
              "      <td>86.925383</td>\n",
              "      <td>1512.931102</td>\n",
              "      <td>1513.398965</td>\n",
              "      <td>2.198250</td>\n",
              "      <td>0.153752</td>\n",
              "      <td>0.517986</td>\n",
              "      <td>0.635420</td>\n",
              "      <td>0.010845</td>\n",
              "      <td>0.251748</td>\n",
              "      <td>0.214616</td>\n",
              "    </tr>\n",
              "    <tr>\n",
              "      <th>min</th>\n",
              "      <td>0.000000</td>\n",
              "      <td>1.740900e+02</td>\n",
              "      <td>80.000000</td>\n",
              "      <td>0.000000</td>\n",
              "      <td>0.000000</td>\n",
              "      <td>0.020000</td>\n",
              "      <td>0.000000</td>\n",
              "      <td>0.000000</td>\n",
              "      <td>0.000000</td>\n",
              "      <td>0.054600</td>\n",
              "      <td>0.000000</td>\n",
              "      <td>0.216900</td>\n",
              "      <td>-0.997000</td>\n",
              "      <td>0.000000</td>\n",
              "      <td>-3.366600</td>\n",
              "      <td>0.000000</td>\n",
              "    </tr>\n",
              "    <tr>\n",
              "      <th>25%</th>\n",
              "      <td>214.250000</td>\n",
              "      <td>1.740900e+02</td>\n",
              "      <td>152.500000</td>\n",
              "      <td>0.000000</td>\n",
              "      <td>0.360000</td>\n",
              "      <td>0.472500</td>\n",
              "      <td>0.000000</td>\n",
              "      <td>0.000000</td>\n",
              "      <td>0.000000</td>\n",
              "      <td>0.264750</td>\n",
              "      <td>0.000000</td>\n",
              "      <td>0.291025</td>\n",
              "      <td>-0.710300</td>\n",
              "      <td>0.001900</td>\n",
              "      <td>-0.069675</td>\n",
              "      <td>0.018050</td>\n",
              "    </tr>\n",
              "    <tr>\n",
              "      <th>50%</th>\n",
              "      <td>428.500000</td>\n",
              "      <td>1.740900e+02</td>\n",
              "      <td>185.000000</td>\n",
              "      <td>0.350000</td>\n",
              "      <td>7.925000</td>\n",
              "      <td>8.700000</td>\n",
              "      <td>0.000000</td>\n",
              "      <td>7.000000</td>\n",
              "      <td>9.000000</td>\n",
              "      <td>0.320950</td>\n",
              "      <td>0.214300</td>\n",
              "      <td>0.383200</td>\n",
              "      <td>0.001100</td>\n",
              "      <td>0.004700</td>\n",
              "      <td>-0.028850</td>\n",
              "      <td>0.062200</td>\n",
              "    </tr>\n",
              "    <tr>\n",
              "      <th>75%</th>\n",
              "      <td>642.750000</td>\n",
              "      <td>1.740900e+02</td>\n",
              "      <td>217.500000</td>\n",
              "      <td>7.662500</td>\n",
              "      <td>32.337500</td>\n",
              "      <td>35.800000</td>\n",
              "      <td>2.000000</td>\n",
              "      <td>136.500000</td>\n",
              "      <td>141.750000</td>\n",
              "      <td>0.451050</td>\n",
              "      <td>0.271050</td>\n",
              "      <td>0.634250</td>\n",
              "      <td>0.289025</td>\n",
              "      <td>0.011175</td>\n",
              "      <td>-0.012800</td>\n",
              "      <td>0.175275</td>\n",
              "    </tr>\n",
              "    <tr>\n",
              "      <th>max</th>\n",
              "      <td>857.000000</td>\n",
              "      <td>1.740900e+02</td>\n",
              "      <td>310.000000</td>\n",
              "      <td>113.000000</td>\n",
              "      <td>134.000000</td>\n",
              "      <td>138.800000</td>\n",
              "      <td>933.000000</td>\n",
              "      <td>21595.000000</td>\n",
              "      <td>21567.000000</td>\n",
              "      <td>37.111400</td>\n",
              "      <td>0.721600</td>\n",
              "      <td>3.242900</td>\n",
              "      <td>1.000000</td>\n",
              "      <td>0.079600</td>\n",
              "      <td>0.001000</td>\n",
              "      <td>0.991800</td>\n",
              "    </tr>\n",
              "  </tbody>\n",
              "</table>\n",
              "</div>"
            ],
            "text/plain": [
              "       Unnamed: 0  UnderlyingPrice  ...       Theta        Vega\n",
              "count  858.000000     8.580000e+02  ...  858.000000  858.000000\n",
              "mean   428.500000     1.740900e+02  ...   -0.077531    0.150592\n",
              "std    247.827561     2.673199e-12  ...    0.251748    0.214616\n",
              "min      0.000000     1.740900e+02  ...   -3.366600    0.000000\n",
              "25%    214.250000     1.740900e+02  ...   -0.069675    0.018050\n",
              "50%    428.500000     1.740900e+02  ...   -0.028850    0.062200\n",
              "75%    642.750000     1.740900e+02  ...   -0.012800    0.175275\n",
              "max    857.000000     1.740900e+02  ...    0.001000    0.991800\n",
              "\n",
              "[8 rows x 16 columns]"
            ]
          },
          "metadata": {
            "tags": []
          },
          "execution_count": 6
        }
      ]
    },
    {
      "cell_type": "markdown",
      "metadata": {
        "id": "KHsRqzai_lc9",
        "colab_type": "text"
      },
      "source": [
        "##### *Questão 1*\n",
        "\n",
        "Quais são os dados de preços das ações no conjunto de dados? Explique e apresente abaixo apenas as colunas que contém tais dados."
      ]
    },
    {
      "cell_type": "code",
      "metadata": {
        "id": "BRJvsa_k_lc_",
        "colab_type": "code",
        "colab": {
          "base_uri": "https://localhost:8080/",
          "height": 391
        },
        "outputId": "26cff135-8c62-4bec-ea4e-3733c46b15e7"
      },
      "source": [
        "data.dtypes\n"
      ],
      "execution_count": 58,
      "outputs": [
        {
          "output_type": "execute_result",
          "data": {
            "text/plain": [
              "Unnamed: 0           int64\n",
              "UnderlyingPrice    float64\n",
              "OptionSymbol        object\n",
              "Type                object\n",
              "Expiration          object\n",
              " DataDate           object\n",
              "Strike             float64\n",
              "Last               float64\n",
              "Bid                float64\n",
              "Ask                float64\n",
              "Volume               int64\n",
              "OpenInterest         int64\n",
              "T1OpenInterest       int64\n",
              "IVMean             float64\n",
              "IVBid              float64\n",
              "IVAsk              float64\n",
              "Delta              float64\n",
              "Gamma              float64\n",
              "Theta              float64\n",
              "Vega               float64\n",
              "AKA                 object\n",
              "dtype: object"
            ]
          },
          "metadata": {
            "tags": []
          },
          "execution_count": 58
        }
      ]
    },
    {
      "cell_type": "code",
      "metadata": {
        "id": "ZF9GyCE0Gce2",
        "colab_type": "code",
        "colab": {
          "base_uri": "https://localhost:8080/",
          "height": 74
        },
        "outputId": "58b4aa57-4c89-4295-86cb-eb8149092f6b"
      },
      "source": [
        "print (',' .join(x for x in data.columns)) \n"
      ],
      "execution_count": 59,
      "outputs": [
        {
          "output_type": "stream",
          "text": [
            "Unnamed: 0,UnderlyingPrice,OptionSymbol,Type,Expiration, DataDate,Strike,Last,Bid,Ask,Volume,OpenInterest,T1OpenInterest,IVMean,IVBid,IVAsk,Delta,Gamma,Theta,Vega,AKA\n"
          ],
          "name": "stdout"
        }
      ]
    },
    {
      "cell_type": "code",
      "metadata": {
        "id": "wSK-nLREIJCn",
        "colab_type": "code",
        "colab": {
          "base_uri": "https://localhost:8080/",
          "height": 221
        },
        "outputId": "bad5f955-8aab-4b6b-bc3b-732e95698076"
      },
      "source": [
        "#Coluna referente a compra\n",
        "colun1 = data['Bid'].head()\n",
        "print(colun1) \n",
        "#Coluna referente a venda\n",
        "colun2 = data['Ask'].head()\n",
        "print(colun2) \n"
      ],
      "execution_count": 60,
      "outputs": [
        {
          "output_type": "stream",
          "text": [
            "0    46.95\n",
            "1     0.00\n",
            "2    41.80\n",
            "3     0.00\n",
            "4    36.95\n",
            "Name: Bid, dtype: float64\n",
            "0    50.80\n",
            "1     0.31\n",
            "2    45.80\n",
            "3     0.31\n",
            "4    40.90\n",
            "Name: Ask, dtype: float64\n"
          ],
          "name": "stdout"
        }
      ]
    },
    {
      "cell_type": "markdown",
      "metadata": {
        "id": "vkDq2kDE_ldD",
        "colab_type": "text"
      },
      "source": [
        "#### *Questão 2*\n",
        "\n",
        "*Aprendizado não supervisionado para encontrar discrepâncias (anomalias)*\n",
        "\n",
        "Explique:\n",
        "\n",
        "O que seria uma anomalia no dataset?\n",
        "\n",
        "Para fins de detecção de anomalias, utilize algum algoritmo de aprendizado não supervisionado para identificar os cluster dos dados.\n",
        "\n",
        "Exemplos de algoritmos não supervisionados:\n",
        "- Isolation Forest\n",
        "- K-Means\n",
        "- KNN\n",
        "- Randon Forest\n",
        "- entre outros.\n",
        "\n",
        "Apresente o código e detalhe, explicando a arquitetura criada/selecionada, além de apresentar dados de visualização (Data visualization [Utilizando Numpy, Pandas e Matplotlib])."
      ]
    },
    {
      "cell_type": "code",
      "metadata": {
        "id": "g8Ke6mua_ldE",
        "colab_type": "code",
        "colab": {}
      },
      "source": [
        "# o código aqui... ;)\n",
        "# anomalias são dados com um comportamento diferente do esperado\n",
        "\n",
        "from sklearn.cluster import KMeans\n",
        "import seaborn as sns\n",
        "import matplotlib.pyplot as plt\n",
        "from pylab import savefig\n",
        "from sklearn.ensemble import IsolationForest\n",
        "from sklearn.decomposition import PCA\n",
        "from sklearn.preprocessing import StandardScaler\n",
        "from mpl_toolkits.mplot3d import Axes3D"
      ],
      "execution_count": 0,
      "outputs": []
    },
    {
      "cell_type": "code",
      "metadata": {
        "id": "MbsqDmIfL_nG",
        "colab_type": "code",
        "colab": {
          "base_uri": "https://localhost:8080/",
          "height": 419
        },
        "outputId": "7aeb35cd-3eb5-43c7-e621-2bbb104ccdfd"
      },
      "source": [
        "newData = data[['Strike', 'UnderlyingPrice', 'Bid', 'Ask']]\n",
        "newData\n"
      ],
      "execution_count": 61,
      "outputs": [
        {
          "output_type": "execute_result",
          "data": {
            "text/html": [
              "<div>\n",
              "<style scoped>\n",
              "    .dataframe tbody tr th:only-of-type {\n",
              "        vertical-align: middle;\n",
              "    }\n",
              "\n",
              "    .dataframe tbody tr th {\n",
              "        vertical-align: top;\n",
              "    }\n",
              "\n",
              "    .dataframe thead th {\n",
              "        text-align: right;\n",
              "    }\n",
              "</style>\n",
              "<table border=\"1\" class=\"dataframe\">\n",
              "  <thead>\n",
              "    <tr style=\"text-align: right;\">\n",
              "      <th></th>\n",
              "      <th>Strike</th>\n",
              "      <th>UnderlyingPrice</th>\n",
              "      <th>Bid</th>\n",
              "      <th>Ask</th>\n",
              "    </tr>\n",
              "  </thead>\n",
              "  <tbody>\n",
              "    <tr>\n",
              "      <th>0</th>\n",
              "      <td>125.0</td>\n",
              "      <td>174.09</td>\n",
              "      <td>46.95</td>\n",
              "      <td>50.80</td>\n",
              "    </tr>\n",
              "    <tr>\n",
              "      <th>1</th>\n",
              "      <td>125.0</td>\n",
              "      <td>174.09</td>\n",
              "      <td>0.00</td>\n",
              "      <td>0.31</td>\n",
              "    </tr>\n",
              "    <tr>\n",
              "      <th>2</th>\n",
              "      <td>130.0</td>\n",
              "      <td>174.09</td>\n",
              "      <td>41.80</td>\n",
              "      <td>45.80</td>\n",
              "    </tr>\n",
              "    <tr>\n",
              "      <th>3</th>\n",
              "      <td>130.0</td>\n",
              "      <td>174.09</td>\n",
              "      <td>0.00</td>\n",
              "      <td>0.31</td>\n",
              "    </tr>\n",
              "    <tr>\n",
              "      <th>4</th>\n",
              "      <td>135.0</td>\n",
              "      <td>174.09</td>\n",
              "      <td>36.95</td>\n",
              "      <td>40.90</td>\n",
              "    </tr>\n",
              "    <tr>\n",
              "      <th>...</th>\n",
              "      <td>...</td>\n",
              "      <td>...</td>\n",
              "      <td>...</td>\n",
              "      <td>...</td>\n",
              "    </tr>\n",
              "    <tr>\n",
              "      <th>853</th>\n",
              "      <td>270.0</td>\n",
              "      <td>174.09</td>\n",
              "      <td>94.50</td>\n",
              "      <td>99.45</td>\n",
              "    </tr>\n",
              "    <tr>\n",
              "      <th>854</th>\n",
              "      <td>280.0</td>\n",
              "      <td>174.09</td>\n",
              "      <td>1.19</td>\n",
              "      <td>2.55</td>\n",
              "    </tr>\n",
              "    <tr>\n",
              "      <th>855</th>\n",
              "      <td>280.0</td>\n",
              "      <td>174.09</td>\n",
              "      <td>104.00</td>\n",
              "      <td>108.90</td>\n",
              "    </tr>\n",
              "    <tr>\n",
              "      <th>856</th>\n",
              "      <td>290.0</td>\n",
              "      <td>174.09</td>\n",
              "      <td>0.76</td>\n",
              "      <td>1.90</td>\n",
              "    </tr>\n",
              "    <tr>\n",
              "      <th>857</th>\n",
              "      <td>290.0</td>\n",
              "      <td>174.09</td>\n",
              "      <td>114.00</td>\n",
              "      <td>118.90</td>\n",
              "    </tr>\n",
              "  </tbody>\n",
              "</table>\n",
              "<p>858 rows × 4 columns</p>\n",
              "</div>"
            ],
            "text/plain": [
              "     Strike  UnderlyingPrice     Bid     Ask\n",
              "0     125.0           174.09   46.95   50.80\n",
              "1     125.0           174.09    0.00    0.31\n",
              "2     130.0           174.09   41.80   45.80\n",
              "3     130.0           174.09    0.00    0.31\n",
              "4     135.0           174.09   36.95   40.90\n",
              "..      ...              ...     ...     ...\n",
              "853   270.0           174.09   94.50   99.45\n",
              "854   280.0           174.09    1.19    2.55\n",
              "855   280.0           174.09  104.00  108.90\n",
              "856   290.0           174.09    0.76    1.90\n",
              "857   290.0           174.09  114.00  118.90\n",
              "\n",
              "[858 rows x 4 columns]"
            ]
          },
          "metadata": {
            "tags": []
          },
          "execution_count": 61
        }
      ]
    },
    {
      "cell_type": "code",
      "metadata": {
        "id": "OsEPiTHpPlRu",
        "colab_type": "code",
        "colab": {
          "base_uri": "https://localhost:8080/",
          "height": 278
        },
        "outputId": "9dafb972-efe5-465e-f4d0-e1c67baa1a1d"
      },
      "source": [
        "metrics_df=newData\n",
        "metrics_df.columns\n",
        "#specify the 12 metrics column names to be modelled\n",
        "to_model_columns=metrics_df.columns\n",
        "\n",
        "clf = IsolationForest(max_samples='auto', contamination=.025, n_estimators=10, random_state=49)\n",
        "\n",
        "clf.fit(metrics_df[to_model_columns])\n",
        "pred = clf.predict(metrics_df[to_model_columns])\n",
        "\n",
        "metrics_df['anomaly']=pred\n",
        "outliers=metrics_df.loc[metrics_df['anomaly']==-1]\n",
        "outlier_index=list(outliers.index)\n",
        "\n",
        "\n",
        "print(metrics_df['anomaly'].value_counts())\n"
      ],
      "execution_count": 81,
      "outputs": [
        {
          "output_type": "stream",
          "text": [
            " 1    836\n",
            "-1     22\n",
            "Name: anomaly, dtype: int64\n"
          ],
          "name": "stdout"
        },
        {
          "output_type": "stream",
          "text": [
            "/usr/local/lib/python3.6/dist-packages/sklearn/ensemble/iforest.py:247: FutureWarning: behaviour=\"old\" is deprecated and will be removed in version 0.22. Please use behaviour=\"new\", which makes the decision_function change to match other anomaly detection algorithm API.\n",
            "  FutureWarning)\n",
            "/usr/local/lib/python3.6/dist-packages/sklearn/ensemble/iforest.py:415: DeprecationWarning: threshold_ attribute is deprecated in 0.20 and will be removed in 0.22.\n",
            "  \" be removed in 0.22.\", DeprecationWarning)\n",
            "/usr/local/lib/python3.6/dist-packages/ipykernel_launcher.py:10: SettingWithCopyWarning: \n",
            "A value is trying to be set on a copy of a slice from a DataFrame.\n",
            "Try using .loc[row_indexer,col_indexer] = value instead\n",
            "\n",
            "See the caveats in the documentation: http://pandas.pydata.org/pandas-docs/stable/user_guide/indexing.html#returning-a-view-versus-a-copy\n",
            "  # Remove the CWD from sys.path while we load stuff.\n"
          ],
          "name": "stderr"
        }
      ]
    },
    {
      "cell_type": "code",
      "metadata": {
        "id": "xSqorhQNS5lm",
        "colab_type": "code",
        "colab": {
          "base_uri": "https://localhost:8080/",
          "height": 248
        },
        "outputId": "99da1d8c-eb04-4fbc-83d9-e78deb777706"
      },
      "source": [
        "\n",
        "pca = PCA(n_components=3)  # Reduce to k=3 dimensions\n",
        "scaler = StandardScaler()\n",
        "#normalize the metrics\n",
        "X = scaler.fit_transform(metrics_df[to_model_columns])\n",
        "X_reduce = pca.fit_transform(X)\n",
        "fig = plt.figure()\n",
        "ax = fig.add_subplot(111, projection='3d')\n",
        "ax.set_zlabel(\"x_composite_3\")\n",
        "# Plot the compressed data points\n",
        "ax.scatter(X_reduce[:, 0], X_reduce[:, 1], zs=X_reduce[:, 2], s=4, lw=1, label=\"inliers\",c=\"green\")\n",
        "# Plot x's for the ground truth outliers\n",
        "ax.scatter(X_reduce[outlier_index,0],X_reduce[outlier_index,1], X_reduce[outlier_index,2],\n",
        "           lw=2, s=60, marker=\"x\", c=\"red\", label=\"outliers\")\n",
        "ax.legend()\n",
        "plt.show()"
      ],
      "execution_count": 82,
      "outputs": [
        {
          "output_type": "display_data",
          "data": {
            "image/png": "[encoded data removed]",
            "text/plain": [
              "<Figure size 432x288 with 1 Axes>"
            ]
          },
          "metadata": {
            "tags": []
          }
        }
      ]
    },
    {
      "cell_type": "code",
      "metadata": {
        "id": "rBZsGNpJbxqb",
        "colab_type": "code",
        "colab": {}
      },
      "source": [
        ""
      ],
      "execution_count": 0,
      "outputs": []
    }
  ]
}